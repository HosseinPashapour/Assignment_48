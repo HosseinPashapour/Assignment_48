{
  "cells": [
    {
      "cell_type": "code",
      "execution_count": 1,
      "metadata": {
        "id": "rHfHcd7HaNan"
      },
      "outputs": [],
      "source": [
        "import numpy as np\n",
        "import matplotlib.pyplot as plt\n",
        "from sklearn.datasets import load_digits\n",
        "from sklearn.model_selection import train_test_split\n",
        "from sklearn.preprocessing import OneHotEncoder"
      ]
    },
    {
      "cell_type": "code",
      "execution_count": 2,
      "metadata": {
        "id": "zcGrrwWUbcga"
      },
      "outputs": [
        {
          "data": {
            "text/plain": [
              "array([ 0.,  0.,  0.,  2., 13.,  0.,  0.,  0.,  0.,  0.,  0.,  8., 15.,\n",
              "        0.,  0.,  0.,  0.,  0.,  5., 16.,  5.,  2.,  0.,  0.,  0.,  0.,\n",
              "       15., 12.,  1., 16.,  4.,  0.,  0.,  4., 16.,  2.,  9., 16.,  8.,\n",
              "        0.,  0.,  0., 10., 14., 16., 16.,  4.,  0.,  0.,  0.,  0.,  0.,\n",
              "       13.,  8.,  0.,  0.,  0.,  0.,  0.,  0., 13.,  6.,  0.,  0.])"
            ]
          },
          "execution_count": 2,
          "metadata": {},
          "output_type": "execute_result"
        }
      ],
      "source": [
        "dataset = load_digits()\n",
        "dataset.data.shape\n",
        "dataset.data[100]"
      ]
    },
    {
      "cell_type": "code",
      "execution_count": 3,
      "metadata": {
        "colab": {
          "base_uri": "https://localhost:8080/"
        },
        "id": "ZCis7EKAjLXi",
        "outputId": "9ae00fea-30e1-4a40-a9bb-b8f0bc177611"
      },
      "outputs": [
        {
          "data": {
            "text/plain": [
              "array([[ 0.,  0.,  0.,  2., 13.,  0.,  0.,  0.],\n",
              "       [ 0.,  0.,  0.,  8., 15.,  0.,  0.,  0.],\n",
              "       [ 0.,  0.,  5., 16.,  5.,  2.,  0.,  0.],\n",
              "       [ 0.,  0., 15., 12.,  1., 16.,  4.,  0.],\n",
              "       [ 0.,  4., 16.,  2.,  9., 16.,  8.,  0.],\n",
              "       [ 0.,  0., 10., 14., 16., 16.,  4.,  0.],\n",
              "       [ 0.,  0.,  0.,  0., 13.,  8.,  0.,  0.],\n",
              "       [ 0.,  0.,  0.,  0., 13.,  6.,  0.,  0.]])"
            ]
          },
          "execution_count": 3,
          "metadata": {},
          "output_type": "execute_result"
        }
      ],
      "source": [
        "dataset.images.shape\n",
        "dataset.images[100]"
      ]
    },
    {
      "cell_type": "code",
      "execution_count": 4,
      "metadata": {
        "colab": {
          "base_uri": "https://localhost:8080/"
        },
        "id": "KT1loo-djblk",
        "outputId": "d0d43d86-b9a9-4592-89b1-4eb9061103e5"
      },
      "outputs": [
        {
          "data": {
            "text/plain": [
              "4"
            ]
          },
          "execution_count": 4,
          "metadata": {},
          "output_type": "execute_result"
        }
      ],
      "source": [
        "dataset.target.shape\n",
        "dataset.target[100]"
      ]
    },
    {
      "cell_type": "code",
      "execution_count": 5,
      "metadata": {
        "colab": {
          "base_uri": "https://localhost:8080/",
          "height": 447
        },
        "id": "8rLA1yZOjxLF",
        "outputId": "c13458a8-6163-450c-de81-4ded348e5b50"
      },
      "outputs": [
        {
          "data": {
            "text/plain": [
              "<matplotlib.image.AxesImage at 0x29920e36010>"
            ]
          },
          "execution_count": 5,
          "metadata": {},
          "output_type": "execute_result"
        },
        {
          "data": {
            "image/png": "[encoded data removed]",
            "text/plain": [
              "<Figure size 640x480 with 1 Axes>"
            ]
          },
          "metadata": {},
          "output_type": "display_data"
        }
      ],
      "source": [
        "plt.imshow(dataset.images[100])"
      ]
    },
    {
      "cell_type": "code",
      "execution_count": 6,
      "metadata": {
        "colab": {
          "base_uri": "https://localhost:8080/"
        },
        "id": "qW6IuVODtQsl",
        "outputId": "a31c7aea-1160-4599-975d-04a3b1f2f84d"
      },
      "outputs": [
        {
          "name": "stdout",
          "output_type": "stream",
          "text": [
            "[0 1 2 ... 8 9 8]\n",
            "====================\n",
            "[[1. 0. 0. ... 0. 0. 0.]\n",
            " [0. 1. 0. ... 0. 0. 0.]\n",
            " [0. 0. 1. ... 0. 0. 0.]\n",
            " ...\n",
            " [0. 0. 0. ... 0. 1. 0.]\n",
            " [0. 0. 0. ... 0. 0. 1.]\n",
            " [0. 0. 0. ... 0. 1. 0.]]\n"
          ]
        }
      ],
      "source": [
        "X = dataset.data\n",
        "Y = dataset.target\n",
        "print(Y)\n",
        "print('='*20)\n",
        "Y = np.eye(10)[Y]  # One hot\n",
        "print(Y)\n",
        "X_train, X_test, Y_train, Y_test = train_test_split(X, Y, test_size=0.2, shuffle=True)"
      ]
    },
    {
      "cell_type": "code",
      "execution_count": 7,
      "metadata": {
        "colab": {
          "base_uri": "https://localhost:8080/"
        },
        "id": "051ybYXAtzWY",
        "outputId": "321f0041-4d70-460d-8288-35a2e25cf6ba"
      },
      "outputs": [
        {
          "data": {
            "text/plain": [
              "((1437, 64), (360, 64), (1437, 10), (360, 10))"
            ]
          },
          "execution_count": 7,
          "metadata": {},
          "output_type": "execute_result"
        }
      ],
      "source": [
        "X_train.shape, X_test.shape, Y_train.shape, Y_test.shape"
      ]
    },
    {
      "cell_type": "code",
      "execution_count": 8,
      "metadata": {
        "id": "i_PS2bzzt8yg"
      },
      "outputs": [],
      "source": [
        "def sigmoid(X):\n",
        "  return 1 / (1 + np.exp(-X))\n",
        "\n",
        "def softmax(X):\n",
        "  return np.exp(X) / np.sum(np.exp(X))\n",
        "\n",
        "def root_mean_squired_error(Y_gt, Y_pred):\n",
        "  return np.sqrt(np.mean((Y_gt - Y_pred) ** 2))"
      ]
    },
    {
      "cell_type": "code",
      "execution_count": 9,
      "metadata": {
        "id": "qN-N16fDvG2h"
      },
      "outputs": [],
      "source": [
        "epochs = 80\n",
        "lr = 0.001\n",
        "D_in = X_train.shape[1]\n",
        "H1 = 128\n",
        "H2 = 32\n",
        "D_out = Y_train.shape[1]"
      ]
    },
    {
      "cell_type": "code",
      "execution_count": 10,
      "metadata": {
        "id": "cxYVOTWexP6O"
      },
      "outputs": [],
      "source": [
        "W1 = np.random.randn(D_in, H1)\n",
        "W2 = np.random.randn(H1, H2)\n",
        "W3 = np.random.randn(H2, D_out)\n",
        "\n",
        "B1 = np.random.randn(1, H1)\n",
        "B2 = np.random.randn(1, H2)\n",
        "B3 = np.random.randn(1, D_out)"
      ]
    },
    {
      "cell_type": "code",
      "execution_count": 11,
      "metadata": {
        "colab": {
          "base_uri": "https://localhost:8080/"
        },
        "id": "yg2biRHnjVu3",
        "outputId": "b23e421a-e441-4c40-99b0-4735732d8195"
      },
      "outputs": [
        {
          "name": "stdout",
          "output_type": "stream",
          "text": [
            "========================= Epoch: 0 =========================\n",
            "❌Loss Train❌ : 0.3339422055990929 ✅Accuracy Train✅: 0.11969380654140571\n",
            "❌Loss Test❌  : 0.31058734520314807 ✅Accuracy Test✅  : 0.15555555555555556\n",
            "========================= Epoch: 1 =========================\n",
            "❌Loss Train❌ : 0.29612267503618206 ✅Accuracy Train✅: 0.24147529575504523\n",
            "❌Loss Test❌  : 0.2938352604485902 ✅Accuracy Test✅  : 0.25277777777777777\n",
            "========================= Epoch: 2 =========================\n",
            "❌Loss Train❌ : 0.2814659648984128 ✅Accuracy Train✅: 0.3298538622129436\n",
            "❌Loss Test❌  : 0.2811732422504608 ✅Accuracy Test✅  : 0.35\n",
            "========================= Epoch: 3 =========================\n",
            "❌Loss Train❌ : 0.2685274995048367 ✅Accuracy Train✅: 0.4342379958246347\n",
            "❌Loss Test❌  : 0.27152860334859247 ✅Accuracy Test✅  : 0.42777777777777776\n",
            "========================= Epoch: 4 =========================\n",
            "❌Loss Train❌ : 0.257907246288302 ✅Accuracy Train✅: 0.5024356297842728\n",
            "❌Loss Test❌  : 0.2633086537932666 ✅Accuracy Test✅  : 0.48055555555555557\n",
            "========================= Epoch: 5 =========================\n",
            "❌Loss Train❌ : 0.24858683068345536 ✅Accuracy Train✅: 0.5629784272790536\n",
            "❌Loss Test❌  : 0.25525309084620057 ✅Accuracy Test✅  : 0.5444444444444444\n",
            "========================= Epoch: 6 =========================\n",
            "❌Loss Train❌ : 0.23988586187426017 ✅Accuracy Train✅: 0.6137787056367432\n",
            "❌Loss Test❌  : 0.24803056969555548 ✅Accuracy Test✅  : 0.575\n",
            "========================= Epoch: 7 =========================\n",
            "❌Loss Train❌ : 0.23181121957152398 ✅Accuracy Train✅: 0.6527487821851079\n",
            "❌Loss Test❌  : 0.24128511818506426 ✅Accuracy Test✅  : 0.6055555555555555\n",
            "========================= Epoch: 8 =========================\n",
            "❌Loss Train❌ : 0.22404150004278206 ✅Accuracy Train✅: 0.6910229645093946\n",
            "❌Loss Test❌  : 0.23550233721190855 ✅Accuracy Test✅  : 0.6305555555555555\n",
            "========================= Epoch: 9 =========================\n",
            "❌Loss Train❌ : 0.21650399542479584 ✅Accuracy Train✅: 0.7146833681280446\n",
            "❌Loss Test❌  : 0.23000806259352885 ✅Accuracy Test✅  : 0.6638888888888889\n",
            "========================= Epoch: 10 =========================\n",
            "❌Loss Train❌ : 0.20915573314138522 ✅Accuracy Train✅: 0.7411273486430062\n",
            "❌Loss Test❌  : 0.22474778303183562 ✅Accuracy Test✅  : 0.6638888888888889\n",
            "========================= Epoch: 11 =========================\n",
            "❌Loss Train❌ : 0.2025410513552039 ✅Accuracy Train✅: 0.7592205984690327\n",
            "❌Loss Test❌  : 0.21989849418692772 ✅Accuracy Test✅  : 0.6666666666666666\n",
            "========================= Epoch: 12 =========================\n",
            "❌Loss Train❌ : 0.19639733930476788 ✅Accuracy Train✅: 0.7745302713987474\n",
            "❌Loss Test❌  : 0.21531348262675384 ✅Accuracy Test✅  : 0.6916666666666667\n",
            "========================= Epoch: 13 =========================\n",
            "❌Loss Train❌ : 0.19048867161723956 ✅Accuracy Train✅: 0.7835768963117606\n",
            "❌Loss Test❌  : 0.21068728536502404 ✅Accuracy Test✅  : 0.7111111111111111\n",
            "========================= Epoch: 14 =========================\n",
            "❌Loss Train❌ : 0.18506536391911402 ✅Accuracy Train✅: 0.8058455114822547\n",
            "❌Loss Test❌  : 0.20661565505854002 ✅Accuracy Test✅  : 0.7222222222222222\n",
            "========================= Epoch: 15 =========================\n",
            "❌Loss Train❌ : 0.1801606144605176 ✅Accuracy Train✅: 0.8176757132915797\n",
            "❌Loss Test❌  : 0.20310235945358907 ✅Accuracy Test✅  : 0.7277777777777777\n",
            "========================= Epoch: 16 =========================\n",
            "❌Loss Train❌ : 0.17568206762036476 ✅Accuracy Train✅: 0.824634655532359\n",
            "❌Loss Test❌  : 0.19993463928414526 ✅Accuracy Test✅  : 0.7333333333333333\n",
            "========================= Epoch: 17 =========================\n",
            "❌Loss Train❌ : 0.17158398854997764 ✅Accuracy Train✅: 0.8357689631176062\n",
            "❌Loss Test❌  : 0.1970257087497989 ✅Accuracy Test✅  : 0.7416666666666667\n",
            "========================= Epoch: 18 =========================\n",
            "❌Loss Train❌ : 0.1677961235402223 ✅Accuracy Train✅: 0.8427279053583855\n",
            "❌Loss Test❌  : 0.1943127494295587 ✅Accuracy Test✅  : 0.7444444444444445\n",
            "========================= Epoch: 19 =========================\n",
            "❌Loss Train❌ : 0.16421516621378865 ✅Accuracy Train✅: 0.8462073764787752\n",
            "❌Loss Test❌  : 0.19172562578085953 ✅Accuracy Test✅  : 0.7444444444444445\n",
            "========================= Epoch: 20 =========================\n",
            "❌Loss Train❌ : 0.16074259949477926 ✅Accuracy Train✅: 0.8594293667362561\n",
            "❌Loss Test❌  : 0.18923744397202089 ✅Accuracy Test✅  : 0.7555555555555555\n",
            "========================= Epoch: 21 =========================\n",
            "❌Loss Train❌ : 0.15733474961210722 ✅Accuracy Train✅: 0.8698677800974252\n",
            "❌Loss Test❌  : 0.18692709463135437 ✅Accuracy Test✅  : 0.7611111111111111\n",
            "========================= Epoch: 22 =========================\n",
            "❌Loss Train❌ : 0.1540952437188897 ✅Accuracy Train✅: 0.8747390396659708\n",
            "❌Loss Test❌  : 0.18473804757655607 ✅Accuracy Test✅  : 0.7694444444444445\n",
            "========================= Epoch: 23 =========================\n",
            "❌Loss Train❌ : 0.15106453615853252 ✅Accuracy Train✅: 0.8775226165622826\n",
            "❌Loss Test❌  : 0.182615739089017 ✅Accuracy Test✅  : 0.775\n",
            "========================= Epoch: 24 =========================\n",
            "❌Loss Train❌ : 0.14821186632653502 ✅Accuracy Train✅: 0.8816979819067502\n",
            "❌Loss Test❌  : 0.18058840049873706 ✅Accuracy Test✅  : 0.7805555555555556\n",
            "========================= Epoch: 25 =========================\n",
            "❌Loss Train❌ : 0.14545341360893116 ✅Accuracy Train✅: 0.8851774530271399\n",
            "❌Loss Test❌  : 0.17857868315028774 ✅Accuracy Test✅  : 0.7805555555555556\n",
            "========================= Epoch: 26 =========================\n",
            "❌Loss Train❌ : 0.1426802992781552 ✅Accuracy Train✅: 0.8914405010438413\n",
            "❌Loss Test❌  : 0.17669939760633652 ✅Accuracy Test✅  : 0.7944444444444444\n",
            "========================= Epoch: 27 =========================\n",
            "❌Loss Train❌ : 0.1401262110124729 ✅Accuracy Train✅: 0.8928322894919972\n",
            "❌Loss Test❌  : 0.17499264889467325 ✅Accuracy Test✅  : 0.8\n",
            "========================= Epoch: 28 =========================\n",
            "❌Loss Train❌ : 0.13770544901513576 ✅Accuracy Train✅: 0.894919972164231\n",
            "❌Loss Test❌  : 0.17342644961796067 ✅Accuracy Test✅  : 0.8055555555555556\n",
            "========================= Epoch: 29 =========================\n",
            "❌Loss Train❌ : 0.13538007761865545 ✅Accuracy Train✅: 0.9032707028531664\n",
            "❌Loss Test❌  : 0.17197009375981814 ✅Accuracy Test✅  : 0.8055555555555556\n",
            "========================= Epoch: 30 =========================\n",
            "❌Loss Train❌ : 0.13319432396588224 ✅Accuracy Train✅: 0.9067501739735561\n",
            "❌Loss Test❌  : 0.1705968430915718 ✅Accuracy Test✅  : 0.8055555555555556\n",
            "========================= Epoch: 31 =========================\n",
            "❌Loss Train❌ : 0.13110774901151317 ✅Accuracy Train✅: 0.9102296450939458\n",
            "❌Loss Test❌  : 0.16930671657599883 ✅Accuracy Test✅  : 0.8055555555555556\n",
            "========================= Epoch: 32 =========================\n",
            "❌Loss Train❌ : 0.1290461459286469 ✅Accuracy Train✅: 0.9116214335421016\n",
            "❌Loss Test❌  : 0.16806195515448838 ✅Accuracy Test✅  : 0.8083333333333333\n",
            "========================= Epoch: 33 =========================\n",
            "❌Loss Train❌ : 0.12702828192720014 ✅Accuracy Train✅: 0.9151009046624913\n",
            "❌Loss Test❌  : 0.16680003917274114 ✅Accuracy Test✅  : 0.8083333333333333\n",
            "========================= Epoch: 34 =========================\n",
            "❌Loss Train❌ : 0.12507426911864233 ✅Accuracy Train✅: 0.918580375782881\n",
            "❌Loss Test❌  : 0.16548093443769069 ✅Accuracy Test✅  : 0.8055555555555556\n",
            "========================= Epoch: 35 =========================\n",
            "❌Loss Train❌ : 0.12318662847101255 ✅Accuracy Train✅: 0.9220598469032707\n",
            "❌Loss Test❌  : 0.16416429156976958 ✅Accuracy Test✅  : 0.8111111111111111\n",
            "========================= Epoch: 36 =========================\n",
            "❌Loss Train❌ : 0.12134135572691608 ✅Accuracy Train✅: 0.9248434237995825\n",
            "❌Loss Test❌  : 0.16294381133826238 ✅Accuracy Test✅  : 0.8166666666666667\n",
            "========================= Epoch: 37 =========================\n",
            "❌Loss Train❌ : 0.11952273011236703 ✅Accuracy Train✅: 0.9276270006958942\n",
            "❌Loss Test❌  : 0.1618342523349517 ✅Accuracy Test✅  : 0.8166666666666667\n",
            "========================= Epoch: 38 =========================\n",
            "❌Loss Train❌ : 0.11772982054526299 ✅Accuracy Train✅: 0.930410577592206\n",
            "❌Loss Test❌  : 0.16074516919355572 ✅Accuracy Test✅  : 0.8277777777777777\n",
            "========================= Epoch: 39 =========================\n",
            "❌Loss Train❌ : 0.11601002161495541 ✅Accuracy Train✅: 0.9331941544885177\n",
            "❌Loss Test❌  : 0.1597141914593412 ✅Accuracy Test✅  : 0.8277777777777777\n",
            "========================= Epoch: 40 =========================\n",
            "❌Loss Train❌ : 0.11436251131428957 ✅Accuracy Train✅: 0.9345859429366736\n",
            "❌Loss Test❌  : 0.15874332829541898 ✅Accuracy Test✅  : 0.825\n",
            "========================= Epoch: 41 =========================\n",
            "❌Loss Train❌ : 0.11277417065590979 ✅Accuracy Train✅: 0.9359777313848295\n",
            "❌Loss Test❌  : 0.15782379407674288 ✅Accuracy Test✅  : 0.8277777777777777\n",
            "========================= Epoch: 42 =========================\n",
            "❌Loss Train❌ : 0.11123071069878229 ✅Accuracy Train✅: 0.9387613082811412\n",
            "❌Loss Test❌  : 0.15694801492993107 ✅Accuracy Test✅  : 0.8277777777777777\n",
            "========================= Epoch: 43 =========================\n",
            "❌Loss Train❌ : 0.1097117377488619 ✅Accuracy Train✅: 0.941544885177453\n",
            "❌Loss Test❌  : 0.1561047379840295 ✅Accuracy Test✅  : 0.8305555555555556\n",
            "========================= Epoch: 44 =========================\n",
            "❌Loss Train❌ : 0.10820865067106542 ✅Accuracy Train✅: 0.9436325678496869\n",
            "❌Loss Test❌  : 0.15528072643233426 ✅Accuracy Test✅  : 0.8333333333333334\n",
            "========================= Epoch: 45 =========================\n",
            "❌Loss Train❌ : 0.10672552323797624 ✅Accuracy Train✅: 0.9450243562978428\n",
            "❌Loss Test❌  : 0.15446362469270455 ✅Accuracy Test✅  : 0.8388888888888889\n",
            "========================= Epoch: 46 =========================\n",
            "❌Loss Train❌ : 0.1052572898089902 ✅Accuracy Train✅: 0.9457202505219207\n",
            "❌Loss Test❌  : 0.15364395242113402 ✅Accuracy Test✅  : 0.8388888888888889\n",
            "========================= Epoch: 47 =========================\n",
            "❌Loss Train❌ : 0.10381137629616205 ✅Accuracy Train✅: 0.9471120389700766\n",
            "❌Loss Test❌  : 0.1528322230611544 ✅Accuracy Test✅  : 0.8416666666666667\n",
            "========================= Epoch: 48 =========================\n",
            "❌Loss Train❌ : 0.10241096466522744 ✅Accuracy Train✅: 0.9491997216423104\n",
            "❌Loss Test❌  : 0.1520295113416549 ✅Accuracy Test✅  : 0.8416666666666667\n",
            "========================= Epoch: 49 =========================\n",
            "❌Loss Train❌ : 0.10105035924070277 ✅Accuracy Train✅: 0.9498956158663883\n",
            "❌Loss Test❌  : 0.15123862343355005 ✅Accuracy Test✅  : 0.8444444444444444\n",
            "========================= Epoch: 50 =========================\n",
            "❌Loss Train❌ : 0.09972186312224637 ✅Accuracy Train✅: 0.9505915100904663\n",
            "❌Loss Test❌  : 0.15046779194728663 ✅Accuracy Test✅  : 0.8472222222222222\n",
            "========================= Epoch: 51 =========================\n",
            "❌Loss Train❌ : 0.09842611508495999 ✅Accuracy Train✅: 0.9512874043145442\n",
            "❌Loss Test❌  : 0.14970972810964925 ✅Accuracy Test✅  : 0.8472222222222222\n",
            "========================= Epoch: 52 =========================\n",
            "❌Loss Train❌ : 0.09716424533526415 ✅Accuracy Train✅: 0.9512874043145442\n",
            "❌Loss Test❌  : 0.14896177614274655 ✅Accuracy Test✅  : 0.8472222222222222\n",
            "========================= Epoch: 53 =========================\n",
            "❌Loss Train❌ : 0.09593424026618054 ✅Accuracy Train✅: 0.953375086986778\n",
            "❌Loss Test❌  : 0.14822563279632192 ✅Accuracy Test✅  : 0.8472222222222222\n",
            "========================= Epoch: 54 =========================\n",
            "❌Loss Train❌ : 0.09473034443882072 ✅Accuracy Train✅: 0.9554627696590118\n",
            "❌Loss Test❌  : 0.1475004007292973 ✅Accuracy Test✅  : 0.85\n",
            "========================= Epoch: 55 =========================\n",
            "❌Loss Train❌ : 0.09354046107431888 ✅Accuracy Train✅: 0.9561586638830898\n",
            "❌Loss Test❌  : 0.14678983212071114 ✅Accuracy Test✅  : 0.85\n",
            "========================= Epoch: 56 =========================\n",
            "❌Loss Train❌ : 0.09234516756927823 ✅Accuracy Train✅: 0.9582463465553236\n",
            "❌Loss Test❌  : 0.14611075131697587 ✅Accuracy Test✅  : 0.8527777777777777\n",
            "========================= Epoch: 57 =========================\n",
            "❌Loss Train❌ : 0.09115585642578325 ✅Accuracy Train✅: 0.9589422407794015\n",
            "❌Loss Test❌  : 0.14546719802781025 ✅Accuracy Test✅  : 0.8527777777777777\n",
            "========================= Epoch: 58 =========================\n",
            "❌Loss Train❌ : 0.08998067401431625 ✅Accuracy Train✅: 0.9596381350034795\n",
            "❌Loss Test❌  : 0.14486468677338815 ✅Accuracy Test✅  : 0.8527777777777777\n",
            "========================= Epoch: 59 =========================\n",
            "❌Loss Train❌ : 0.08882287276261448 ✅Accuracy Train✅: 0.9610299234516354\n",
            "❌Loss Test❌  : 0.14429604558069292 ✅Accuracy Test✅  : 0.8527777777777777\n",
            "========================= Epoch: 60 =========================\n",
            "❌Loss Train❌ : 0.08769164850132648 ✅Accuracy Train✅: 0.9631176061238692\n",
            "❌Loss Test❌  : 0.14374783450749237 ✅Accuracy Test✅  : 0.8527777777777777\n",
            "========================= Epoch: 61 =========================\n",
            "❌Loss Train❌ : 0.08659001804775668 ✅Accuracy Train✅: 0.9638135003479471\n",
            "❌Loss Test❌  : 0.14320960298937893 ✅Accuracy Test✅  : 0.8527777777777777\n",
            "========================= Epoch: 62 =========================\n",
            "❌Loss Train❌ : 0.08551663720212642 ✅Accuracy Train✅: 0.9638135003479471\n",
            "❌Loss Test❌  : 0.14267562374880105 ✅Accuracy Test✅  : 0.8527777777777777\n",
            "========================= Epoch: 63 =========================\n",
            "❌Loss Train❌ : 0.08447020643285166 ✅Accuracy Train✅: 0.965205288796103\n",
            "❌Loss Test❌  : 0.14214688220200047 ✅Accuracy Test✅  : 0.8583333333333333\n",
            "========================= Epoch: 64 =========================\n",
            "❌Loss Train❌ : 0.08344854570261673 ✅Accuracy Train✅: 0.9659011830201809\n",
            "❌Loss Test❌  : 0.14162258535919608 ✅Accuracy Test✅  : 0.8583333333333333\n",
            "========================= Epoch: 65 =========================\n",
            "❌Loss Train❌ : 0.08244753478401402 ✅Accuracy Train✅: 0.9679888656924147\n",
            "❌Loss Test❌  : 0.1410920890166922 ✅Accuracy Test✅  : 0.8611111111111112\n",
            "========================= Epoch: 66 =========================\n",
            "❌Loss Train❌ : 0.0814739698568175 ✅Accuracy Train✅: 0.9693806541405706\n",
            "❌Loss Test❌  : 0.1405384451629463 ✅Accuracy Test✅  : 0.8583333333333333\n",
            "========================= Epoch: 67 =========================\n",
            "❌Loss Train❌ : 0.08050350590192194 ✅Accuracy Train✅: 0.9700765483646486\n",
            "❌Loss Test❌  : 0.13979845497317958 ✅Accuracy Test✅  : 0.8638888888888889\n",
            "========================= Epoch: 68 =========================\n",
            "❌Loss Train❌ : 0.07944508373028245 ✅Accuracy Train✅: 0.9707724425887265\n",
            "❌Loss Test❌  : 0.1391380283242061 ✅Accuracy Test✅  : 0.8638888888888889\n",
            "========================= Epoch: 69 =========================\n",
            "❌Loss Train❌ : 0.0784464595651322 ✅Accuracy Train✅: 0.9707724425887265\n",
            "❌Loss Test❌  : 0.13865899422245856 ✅Accuracy Test✅  : 0.8694444444444445\n",
            "========================= Epoch: 70 =========================\n",
            "❌Loss Train❌ : 0.07748102297851514 ✅Accuracy Train✅: 0.9707724425887265\n",
            "❌Loss Test❌  : 0.1382257999904492 ✅Accuracy Test✅  : 0.8694444444444445\n",
            "========================= Epoch: 71 =========================\n",
            "❌Loss Train❌ : 0.07656238496537603 ✅Accuracy Train✅: 0.9714683368128044\n",
            "❌Loss Test❌  : 0.1378088540806545 ✅Accuracy Test✅  : 0.8694444444444445\n",
            "========================= Epoch: 72 =========================\n",
            "❌Loss Train❌ : 0.07569285960459923 ✅Accuracy Train✅: 0.9714683368128044\n",
            "❌Loss Test❌  : 0.13740226048062815 ✅Accuracy Test✅  : 0.8722222222222222\n",
            "========================= Epoch: 73 =========================\n",
            "❌Loss Train❌ : 0.07485792995048651 ✅Accuracy Train✅: 0.9728601252609603\n",
            "❌Loss Test❌  : 0.13700483314010087 ✅Accuracy Test✅  : 0.8722222222222222\n",
            "========================= Epoch: 74 =========================\n",
            "❌Loss Train❌ : 0.07403874981708924 ✅Accuracy Train✅: 0.9742519137091162\n",
            "❌Loss Test❌  : 0.13661479048701736 ✅Accuracy Test✅  : 0.8722222222222222\n",
            "========================= Epoch: 75 =========================\n",
            "❌Loss Train❌ : 0.07322384601245506 ✅Accuracy Train✅: 0.9742519137091162\n",
            "❌Loss Test❌  : 0.13622542623571635 ✅Accuracy Test✅  : 0.8694444444444445\n",
            "========================= Epoch: 76 =========================\n",
            "❌Loss Train❌ : 0.072415001532167 ✅Accuracy Train✅: 0.9749478079331941\n",
            "❌Loss Test❌  : 0.13582616662604952 ✅Accuracy Test✅  : 0.875\n",
            "========================= Epoch: 77 =========================\n",
            "❌Loss Train❌ : 0.07161689582820378 ✅Accuracy Train✅: 0.9749478079331941\n",
            "❌Loss Test❌  : 0.13540421354580529 ✅Accuracy Test✅  : 0.8777777777777778\n",
            "========================= Epoch: 78 =========================\n",
            "❌Loss Train❌ : 0.07083278797169645 ✅Accuracy Train✅: 0.9749478079331941\n",
            "❌Loss Test❌  : 0.13496754216828896 ✅Accuracy Test✅  : 0.8777777777777778\n",
            "========================= Epoch: 79 =========================\n",
            "❌Loss Train❌ : 0.0700550737148363 ✅Accuracy Train✅: 0.9749478079331941\n",
            "❌Loss Test❌  : 0.13454355396057682 ✅Accuracy Test✅  : 0.8777777777777778\n"
          ]
        }
      ],
      "source": [
        "trainLoss = []\n",
        "trainAcc = []\n",
        "testAcc = []\n",
        "testLoss = []\n",
        "\n",
        "for epoch in range(epochs):\n",
        "  # Train\n",
        "  Y_pred_train = []\n",
        "  for x, y in zip(X_train, Y_train):\n",
        "    x = x.reshape(-1, 1)\n",
        "\n",
        "    # >>>>> forward >>>>>\n",
        "    # layer 1\n",
        "    out1 = sigmoid(x.T @ W1 + B1)\n",
        "    # layer 2\n",
        "    out2 = sigmoid(out1 @ W2 + B2)\n",
        "    # layer 3\n",
        "    out3 = softmax(out2 @ W3 + B3)\n",
        "    y_pred = out3\n",
        "\n",
        "    Y_pred_train.append(y_pred)\n",
        "\n",
        "    loss = root_mean_squired_error(y, Y_pred_train)\n",
        "\n",
        "    # <<<<<< backward <<<<<<\n",
        "    # layer 3\n",
        "    error = -2 * (y - y_pred)\n",
        "    grad_B3 = error\n",
        "    grad_W3 = out2.T @ error\n",
        "    # layer 2\n",
        "    error = error @ W3.T * out2 * (1 - out2)\n",
        "    grad_B2 = error\n",
        "    grad_W2 = out1.T @ error\n",
        "    # layer 1\n",
        "    error = error @ W2.T * out1 * (1 - out1)\n",
        "    grad_B1 = error\n",
        "    grad_W1 = x @ error\n",
        "\n",
        "\n",
        "    # ===== update =====\n",
        "    # layer 1\n",
        "    W1 -= lr * grad_W1\n",
        "    B1 -= lr * grad_B1\n",
        "    # layer 2\n",
        "    W2 -= lr * grad_W2\n",
        "    B2 -= lr * grad_B2\n",
        "    # layer 3\n",
        "    W3 -= lr * grad_W3\n",
        "    B3 -= lr *grad_B3\n",
        "\n",
        "  # Test\n",
        "  Y_pred_test = []\n",
        "  for x, y in zip(X_test, Y_test):\n",
        "    x = x.reshape(-1, 1)\n",
        "\n",
        "    # >>>>> forward >>>>>\n",
        "    # layer 1\n",
        "    out1 = sigmoid(x.T @ W1 + B1)\n",
        "    # layer 2\n",
        "    out2 = sigmoid(out1 @ W2 + B2)\n",
        "    # layer 3\n",
        "    out3 = softmax(out2 @ W3 + B3)\n",
        "    y_pred = out3\n",
        "\n",
        "    Y_pred_test.append(y_pred)\n",
        "\n",
        "    loss = root_mean_squired_error(y, Y_pred_test)\n",
        "\n",
        "  print('='*25, 'Epoch:', epoch, '='*25)\n",
        "  Y_pred_train = np.array(Y_pred_train).reshape(-1, 10)\n",
        "  loss_train = root_mean_squired_error(Y_train, Y_pred_train)\n",
        "  accuracy_train = np.sum(np.argmax(Y_train, axis=1) == np.argmax(Y_pred_train, axis=1)) / len(Y_train)\n",
        "  print(\"❌Loss Train❌ :\", loss_train, \"✅Accuracy Train✅:\", accuracy_train)\n",
        "  trainLoss.append(loss_train)\n",
        "  trainAcc.append(accuracy_train)\n",
        "\n",
        "  Y_pred_test = np.array(Y_pred_test).reshape(-1, 10)\n",
        "  loss_test = root_mean_squired_error(Y_test, Y_pred_test)\n",
        "  accuracy_test = np.sum(np.argmax(Y_test, axis=1) == np.argmax(Y_pred_test, axis=1)) / len(Y_test)\n",
        "  print(\"❌Loss Test❌  :\", loss_test,  \"✅Accuracy Test✅  :\", accuracy_test)\n",
        "  testLoss.append(loss_test)\n",
        "  testAcc.append(accuracy_test)"
      ]
    },
    {
      "cell_type": "code",
      "execution_count": 12,
      "metadata": {
        "colab": {
          "base_uri": "https://localhost:8080/",
          "height": 455
        },
        "id": "DaISeAvhY5A1",
        "outputId": "45e31808-c463-4c89-a17e-4cf05ddab86c"
      },
      "outputs": [
        {
          "data": {
            "image/png": "[encoded data removed]",
            "text/plain": [
              "<Figure size 1200x500 with 2 Axes>"
            ]
          },
          "metadata": {},
          "output_type": "display_data"
        }
      ],
      "source": [
        "fig , (ax1 , ax2) = plt.subplots(1,2 , figsize=(12,5))\n",
        "ax1.plot(trainLoss)\n",
        "ax1.plot(testLoss)\n",
        "ax1.set_xlabel(\"Epoch\")\n",
        "ax1.set_ylabel(\"Loss\")\n",
        "ax1.legend([\"train\" , \"test\"])\n",
        "ax1.title.set_text('Loss Chart')\n",
        "\n",
        "ax2.plot(trainAcc)\n",
        "ax2.plot(testAcc)\n",
        "ax2.set_xlabel(\"Epoch\")\n",
        "ax2.set_ylabel(\"Accuracy\")\n",
        "ax2.legend([\"train\" , \"test\"])\n",
        "ax2.title.set_text('Accuracy Chart')\n",
        "plt.show()"
      ]
    },
    {
      "cell_type": "code",
      "execution_count": 16,
      "metadata": {
        "id": "MJtRasxTkB_W"
      },
      "outputs": [],
      "source": [
        "import cv2"
      ]
    },
    {
      "cell_type": "code",
      "execution_count": 19,
      "metadata": {
        "colab": {
          "base_uri": "https://localhost:8080/"
        },
        "id": "vPNiK7t3hnSR",
        "outputId": "e0a32dcb-9f21-4870-ea85-5433969ce0d1"
      },
      "outputs": [
        {
          "data": {
            "text/plain": [
              "(8, 8, 3)"
            ]
          },
          "execution_count": 19,
          "metadata": {},
          "output_type": "execute_result"
        }
      ],
      "source": [
        "image = cv2.imread('Input\\pic4.jpg')\n",
        "image.shape"
      ]
    },
    {
      "cell_type": "code",
      "execution_count": 20,
      "metadata": {
        "colab": {
          "base_uri": "https://localhost:8080/"
        },
        "id": "6uQ4Tg76iCUa",
        "outputId": "7808f9de-8af7-4c4d-dd9e-7b782470b33d"
      },
      "outputs": [
        {
          "data": {
            "text/plain": [
              "(8, 8)"
            ]
          },
          "execution_count": 20,
          "metadata": {},
          "output_type": "execute_result"
        }
      ],
      "source": [
        "image = cv2.cvtColor(image, cv2.COLOR_BGR2GRAY)\n",
        "image.shape"
      ]
    },
    {
      "cell_type": "code",
      "execution_count": 21,
      "metadata": {
        "colab": {
          "base_uri": "https://localhost:8080/"
        },
        "id": "OXcZkexWihdd",
        "outputId": "33b1d30b-3c20-4362-bbac-5dc5e046e63e"
      },
      "outputs": [
        {
          "data": {
            "text/plain": [
              "(64, 1)"
            ]
          },
          "execution_count": 21,
          "metadata": {},
          "output_type": "execute_result"
        }
      ],
      "source": [
        "image = image.reshape(64, 1)\n",
        "image.shape"
      ]
    },
    {
      "cell_type": "code",
      "execution_count": 22,
      "metadata": {
        "colab": {
          "base_uri": "https://localhost:8080/"
        },
        "id": "BWAcZzMvisoU",
        "outputId": "52a3181e-f152-4c4c-d600-c3f4490b16e6"
      },
      "outputs": [
        {
          "name": "stdout",
          "output_type": "stream",
          "text": [
            "8\n"
          ]
        },
        {
          "name": "stderr",
          "output_type": "stream",
          "text": [
            "C:\\Users\\Royal Center\\AppData\\Local\\Temp\\ipykernel_14180\\1103958328.py:2: RuntimeWarning: overflow encountered in exp\n",
            "  return 1 / (1 + np.exp(-X))\n"
          ]
        }
      ],
      "source": [
        "x = image\n",
        "\n",
        "# >>>>> forward >>>>>\n",
        "# layer 1\n",
        "out1 = sigmoid(x.T @ W1 + B1)\n",
        "# layer 2\n",
        "out2 = sigmoid(out1 @ W2 + B2)\n",
        "# layer 3\n",
        "out3 = softmax(out2 @ W3 + B3)\n",
        "\n",
        "y_pred = out3\n",
        "\n",
        "print(np.argmax(y_pred))"
      ]
    },
    {
      "cell_type": "code",
      "execution_count": null,
      "metadata": {
        "id": "CyryRKQrPEaV"
      },
      "outputs": [],
      "source": []
    }
  ],
  "metadata": {
    "colab": {
      "provenance": []
    },
    "kernelspec": {
      "display_name": "Python 3",
      "name": "python3"
    },
    "language_info": {
      "codemirror_mode": {
        "name": "ipython",
        "version": 3
      },
      "file_extension": ".py",
      "mimetype": "text/x-python",
      "name": "python",
      "nbconvert_exporter": "python",
      "pygments_lexer": "ipython3",
      "version": "3.11.8"
    }
  },
  "nbformat": 4,
  "nbformat_minor": 0
}
